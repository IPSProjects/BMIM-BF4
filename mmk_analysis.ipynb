{
 "cells": [
  {
   "cell_type": "code",
   "execution_count": 1,
   "metadata": {},
   "outputs": [],
   "source": [
    "import zntrack\n",
    "import numpy as np"
   ]
  },
  {
   "cell_type": "code",
   "execution_count": 3,
   "metadata": {},
   "outputs": [
    {
     "name": "stdout",
     "output_type": "stream",
     "text": [
      "2023-11-03 19:18:11,609 (DEBUG): Welcome to IPS - the Interatomic Potential Suite!\n"
     ]
    }
   ],
   "source": [
    "mmk = zntrack.from_rev(\"bootstrap_ConfigurationSelection\")"
   ]
  },
  {
   "cell_type": "code",
   "execution_count": 4,
   "metadata": {},
   "outputs": [],
   "source": [
    "mmk.plot_kernel()"
   ]
  },
  {
   "cell_type": "code",
   "execution_count": 94,
   "metadata": {},
   "outputs": [],
   "source": [
    "kernel = np.array(mmk.kernel_results)"
   ]
  },
  {
   "cell_type": "code",
   "execution_count": 95,
   "metadata": {},
   "outputs": [
    {
     "data": {
      "text/plain": [
       "(30, 201)"
      ]
     },
     "execution_count": 95,
     "metadata": {},
     "output_type": "execute_result"
    }
   ],
   "source": [
    "kernel.shape"
   ]
  },
  {
   "cell_type": "code",
   "execution_count": 96,
   "metadata": {},
   "outputs": [
    {
     "name": "stdout",
     "output_type": "stream",
     "text": [
      "(array([ 3,  0,  1,  2,  1,  3,  1,  0, 29, 54, 48,  6,  5, 10,  2,  4,  7,\n",
      "        4,  6, 15]), array([0.87112892, 0.87757244, 0.88401595, 0.89045947, 0.89690299,\n",
      "       0.90334651, 0.90979003, 0.91623355, 0.92267706, 0.92912058,\n",
      "       0.9355641 , 0.94200762, 0.94845114, 0.95489466, 0.96133817,\n",
      "       0.96778169, 0.97422521, 0.98066873, 0.98711225, 0.99355577,\n",
      "       0.99999928]))\n"
     ]
    },
    {
     "data": {
      "text/plain": [
       "21"
      ]
     },
     "execution_count": 96,
     "metadata": {},
     "output_type": "execute_result"
    }
   ],
   "source": [
    "hist = np.histogram(kernel[0], bins=kernel.shape[1] // 10)\n",
    "print(hist)\n",
    "\n",
    "len(hist[1])"
   ]
  },
  {
   "cell_type": "code",
   "execution_count": 112,
   "metadata": {},
   "outputs": [
    {
     "name": "stdout",
     "output_type": "stream",
     "text": [
      "zero\n",
      "zero\n",
      "zero\n",
      "zero\n",
      "zero\n",
      "[ 1.25661952  0.0657132  -0.25145831]\n"
     ]
    },
    {
     "data": {
      "text/plain": [
       "<matplotlib.collections.LineCollection at 0x14a544616a70>"
      ]
     },
     "execution_count": 112,
     "metadata": {},
     "output_type": "execute_result"
    },
    {
     "data": {
      "image/png": "[encoded data removed]",
      "text/plain": [
       "<Figure size 640x480 with 1 Axes>"
      ]
     },
     "metadata": {},
     "output_type": "display_data"
    }
   ],
   "source": [
    "import matplotlib.pyplot as plt\n",
    "from scipy.optimize import curve_fit\n",
    "\n",
    "\n",
    "hist = np.histogram(kernel[0], bins=kernel.shape[1] // 10)\n",
    "\n",
    "threshold = 0.997\n",
    "\n",
    "# integrate over the histogram up to the 95th percentile\n",
    "percentages = []\n",
    "for data in kernel:\n",
    "    hist, bins = np.histogram(data, bins=np.linspace(0, 1, 10000), density=True)\n",
    "    bins = bins[:-1]\n",
    "\n",
    "    # # remove all values above the threshold\n",
    "    hist[bins > threshold] = 0\n",
    "\n",
    "    percentages.append(np.trapz(hist, bins))\n",
    "    if percentages[-1] == 0:\n",
    "        print(\"zero\")\n",
    "\n",
    "def exponential_decay(x, a, b, c):\n",
    "    return a * np.exp(-b * x) + c\n",
    "\n",
    "popt, pcov = curve_fit(exponential_decay, np.arange(len(percentages)), percentages)\n",
    "\n",
    "print(popt)\n",
    "\n",
    "fig, ax = plt.subplots()\n",
    "ax.plot(percentages)\n",
    "# ax.plot(exponential_decay(np.arange(30), *popt))\n",
    "ax.hlines(0, 0, 20, linestyles=\"dashed\")\n",
    "\n",
    "\n",
    "# np.trapz(hist[0][:19], hist[1][:19])\n",
    "\n",
    "# fig, ax = plt.subplots()\n",
    "# ax.plot(hist[1][:-1], hist[0])\n",
    "# ax.set_xlabel(\"Kernel value\")\n",
    "# ax.set_ylabel(\"Count\")"
   ]
  },
  {
   "cell_type": "code",
   "execution_count": 31,
   "metadata": {},
   "outputs": [
    {
     "data": {
      "text/plain": [
       "(array([ 3,  1,  1,  2,  6,  1, 11, 12, 14, 30,  3, 17, 11,  8,  8,  8, 10,\n",
       "         7,  8, 40]),\n",
       " array([0.88725019, 0.8928703 , 0.89849041, 0.90411052, 0.90973063,\n",
       "        0.91535074, 0.92097085, 0.92659096, 0.93221107, 0.93783118,\n",
       "        0.94345129, 0.9490714 , 0.95469151, 0.96031162, 0.96593173,\n",
       "        0.97155184, 0.97717195, 0.98279206, 0.98841217, 0.99403228,\n",
       "        0.99965239]))"
      ]
     },
     "execution_count": 31,
     "metadata": {},
     "output_type": "execute_result"
    }
   ],
   "source": [
    "hist"
   ]
  },
  {
   "cell_type": "code",
   "execution_count": 2,
   "metadata": {},
   "outputs": [],
   "source": [
    "# Plot for the MMK v. other methods"
   ]
  },
  {
   "cell_type": "code",
   "execution_count": 13,
   "metadata": {},
   "outputs": [],
   "source": [
    "import zntrack\n",
    "import matplotlib.pyplot as plt\n",
    "import numpy as np"
   ]
  },
  {
   "cell_type": "code",
   "execution_count": 8,
   "metadata": {},
   "outputs": [],
   "source": [
    "mmk_w_threshold = [\"soppy-view\", \"dosed-drop\", \"aging-sook\", \"first-hems\"]\n",
    "uniform_time = [\"eerie-afro\", \"quack-chay\", \"humid-leaf\"]\n",
    "random = [\"often-tyke\", \"spent-main\", \"fried-milo\", \"sport-sida\"]\n",
    "mmk_fixed = [\"moral-bond\", \"puffy-tors\", \"tinct-lamb\", \"calmy-joey\"]"
   ]
  },
  {
   "cell_type": "code",
   "execution_count": 9,
   "metadata": {},
   "outputs": [],
   "source": [
    "mmk_w_threshold_nodes = [zntrack.from_rev(\"ML0_PredictionMetrics\", rev=x) for x in mmk_w_threshold]\n",
    "uniform_time_nodes = [zntrack.from_rev(\"ML0_PredictionMetrics\", rev=x) for x in uniform_time]\n",
    "random_nodes = [zntrack.from_rev(\"ML0_PredictionMetrics\", rev=x) for x in random]\n",
    "mmk_fixed_nodes = [zntrack.from_rev(\"ML0_PredictionMetrics\", rev=x) for x in mmk_fixed]"
   ]
  },
  {
   "cell_type": "code",
   "execution_count": 24,
   "metadata": {},
   "outputs": [],
   "source": [
    "def calculate_metrics(nodes):\n",
    "    metrics = {\"energy\": [], \"forces\": []}\n",
    "    for node in nodes:\n",
    "        metrics[\"energy\"].append(node.energy)\n",
    "        metrics[\"forces\"].append(node.forces)\n",
    "\n",
    "    metrics_mean = {\"energy\": {}, \"forces\": {}}\n",
    "    metrics_std = {\"energy\": {}, \"forces\": {}}\n",
    "\n",
    "    for key in metrics:\n",
    "        for metric in metrics[key][0]:\n",
    "            metrics_mean[key][metric] = np.mean([x[metric] for x in metrics[key]])\n",
    "            metrics_std[key][metric] = np.std([x[metric] for x in metrics[key]])\n",
    "\n",
    "    return metrics_mean, metrics_std\n",
    "\n",
    "mmk_w_threshold_metrics_mean, mmk_w_threshold_metrics_std = calculate_metrics(mmk_w_threshold_nodes)\n",
    "uniform_time_metrics_mean, uniform_time_metrics_std = calculate_metrics(uniform_time_nodes)\n",
    "random_metrics_mean, random_metrics_std = calculate_metrics(random_nodes)\n",
    "mmk_fixed_metrics_mean, mmk_fixed_metrics_std = calculate_metrics(mmk_fixed_nodes)"
   ]
  },
  {
   "cell_type": "code",
   "execution_count": 64,
   "metadata": {},
   "outputs": [
    {
     "data": {
      "image/png": "[encoded data removed]",
      "text/plain": [
       "<Figure size 400x800 with 3 Axes>"
      ]
     },
     "metadata": {},
     "output_type": "display_data"
    }
   ],
   "source": [
    "fig, axes = plt.subplots(3, figsize=(4, 8))\n",
    "\n",
    "key_1 = \"forces\"\n",
    "key2_2 = [\"rmse\", \"lp4\", \"max\"]\n",
    "\n",
    "for ax, key_2 in zip(axes, key2_2):\n",
    "    ax.bar(1, random_metrics_mean[key_1][key_2], yerr=random_metrics_std[key_1][key_2], label=\"Random\", capsize=10)\n",
    "    ax.bar(2, uniform_time_metrics_mean[key_1][key_2], yerr=uniform_time_metrics_std[key_1][key_2], label=\"Uniform time\", capsize=10)\n",
    "    ax.bar(3, mmk_fixed_metrics_mean[key_1][key_2], yerr=mmk_fixed_metrics_std[key_1][key_2], label=\"MMK fixed\", capsize=10)\n",
    "\n",
    "    ax.set_xticks([1, 2, 3])\n",
    "    ax.set_xticklabels([])\n",
    "    ax.set_ylabel(f\"{key_2} / a.u.\")\n",
    "    ax.set_yticklabels([])\n",
    "\n",
    "axes[-1].set_xticklabels([\"Random\", \"Uniform time\", \"MMK fixed\"])\n",
    "fig.savefig(\"geopt_sel_forces.png\", dpi=600, bbox_inches=\"tight\")"
   ]
  },
  {
   "cell_type": "code",
   "execution_count": null,
   "metadata": {},
   "outputs": [],
   "source": []
  }
 ],
 "metadata": {
  "kernelspec": {
   "display_name": "ips_apax",
   "language": "python",
   "name": "python3"
  },
  "language_info": {
   "codemirror_mode": {
    "name": "ipython",
    "version": 3
   },
   "file_extension": ".py",
   "mimetype": "text/x-python",
   "name": "python",
   "nbconvert_exporter": "python",
   "pygments_lexer": "ipython3",
   "version": "3.10.13"
  }
 },
 "nbformat": 4,
 "nbformat_minor": 2
}
